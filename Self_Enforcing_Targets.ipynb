{
 "cells": [
  {
   "cell_type": "markdown",
   "metadata": {},
   "source": [
    "# Do climate targets enforce themselves via climate damages?\n",
    "#### Christopher Callahan\n",
    "#### Christopher.W.Callahan.GR@dartmouth.edu"
   ]
  },
  {
   "cell_type": "markdown",
   "metadata": {},
   "source": [
    "#### Mechanics\n",
    "Dependencies"
   ]
  },
  {
   "cell_type": "code",
   "execution_count": 1,
   "metadata": {},
   "outputs": [],
   "source": [
    "import xarray as xr\n",
    "import numpy as np\n",
    "import sys\n",
    "import os\n",
    "import datetime\n",
    "import pandas as pd\n",
    "import matplotlib.pyplot as plt\n",
    "from matplotlib import rcParams\n",
    "import matplotlib.colors as colors\n",
    "import matplotlib.gridspec as gridspec\n",
    "from scipy import stats"
   ]
  },
  {
   "cell_type": "markdown",
   "metadata": {},
   "source": [
    "Data inputs"
   ]
  },
  {
   "cell_type": "code",
   "execution_count": 2,
   "metadata": {},
   "outputs": [],
   "source": [
    "loc_ssp_iam = \"../Data/SSP/\"\n",
    "loc_emissions = \"../Data/GlobalCarbonBudget/\"\n",
    "loc_deflator = \"../Data/GDPDeflator/\" "
   ]
  },
  {
   "cell_type": "markdown",
   "metadata": {},
   "source": [
    "#### Parameters"
   ]
  },
  {
   "cell_type": "markdown",
   "metadata": {},
   "source": [
    "TCRE"
   ]
  },
  {
   "cell_type": "code",
   "execution_count": 3,
   "metadata": {},
   "outputs": [],
   "source": [
    "tcre = 0.48 # degrees C per 1000 GtCO2 of cumulative CO2 emissions"
   ]
  },
  {
   "cell_type": "markdown",
   "metadata": {},
   "source": [
    "Time period"
   ]
  },
  {
   "cell_type": "code",
   "execution_count": 4,
   "metadata": {},
   "outputs": [],
   "source": [
    "y1 = 2020\n",
    "y2 = 2100\n",
    "years = np.arange(y1,y2+1,1)"
   ]
  },
  {
   "cell_type": "markdown",
   "metadata": {},
   "source": [
    "#### Functions"
   ]
  },
  {
   "cell_type": "markdown",
   "metadata": {},
   "source": [
    "Function for loading SSP data and calculating quantities for Kaya Identity"
   ]
  },
  {
   "cell_type": "code",
   "execution_count": 5,
   "metadata": {},
   "outputs": [],
   "source": [
    "def load_ssp_data(scenario,subset,mdl,years):\n",
    "    # load data for desired variables, interpolate to yearly timestep\n",
    "    \n",
    "    var = [\"Population\",\"Emissions|CO2\",\"GDP|PPP\",\"Final Energy\"]\n",
    "    vname = [\"population\",\"emissions\",\"gdp\",\"energy\"]\n",
    "\n",
    "    # scenario name, load\n",
    "    scenario_nm = scenario+\"-\"+subset\n",
    "    data_in = pd.read_csv(loc_ssp_iam+\"SSP_IAM_V2_201811.csv\")\n",
    "    data = data_in.loc[(data_in.SCENARIO==scenario_nm)&(data_in.REGION==\"World\")&(data_in.MODEL==mdl),:]\n",
    "    \n",
    "    # build dataframe\n",
    "    df_orig = pd.DataFrame({\"year\":years,\"population\":np.full(len(years),np.nan),\n",
    "                  \"gdp\":np.full(len(years),np.nan),\"energy\":np.full(len(years),np.nan),\n",
    "                  \"emissions\":np.full(len(years),np.nan)})\n",
    "    \n",
    "    # load each variable\n",
    "    for v in var:\n",
    "        vn = vname[var.index(v)]\n",
    "        data_v = data.loc[data.VARIABLE.values==v,:]\n",
    "        yrs_v = data_v.iloc[:,7:].columns.values.astype(int) # index 7 because 2020\n",
    "        data_v_vals = data_v.iloc[:,7:].values[0] # index 7 because 2020\n",
    "        df_ind = [x in yrs_v for x in df_orig.year.values]\n",
    "        df_orig.loc[df_ind,vn] = data_v_vals\n",
    "    \n",
    "    # convert US 2005 to US 2020\n",
    "    gdp_deflator = pd.read_csv(loc_deflator+\"API_NY.GDP.DEFL.ZS_DS2_en_excel_v2_4353530.csv\")\n",
    "    usa_deflator = gdp_deflator.loc[gdp_deflator[\"Country Code\"]==\"USA\",:]\n",
    "    deflator_2020_2005 = usa_deflator.loc[:,\"2020\"].values[0]/usa_deflator.loc[:,\"2005\"].values[0]\n",
    "    df_orig[\"gdp\"] = df_orig.gdp.values*deflator_2020_2005\n",
    "    \n",
    "    # Interpolate to yearly time step linearly\n",
    "    df = df_orig.interpolate(method=\"polynomial\",axis=0,order=2)\n",
    "    \n",
    "    # unit conversion\n",
    "    df[\"emissions\"] = df[\"emissions\"]/1000.0 # mt co2/yr to gt co2/yr\n",
    "    df[\"gdp\"] = df[\"gdp\"]/1000.0 # billion 2005 to trillion 2005\n",
    "    df[\"population\"] = df[\"population\"]/1000.0 # million to billion\n",
    "    \n",
    "    # GDP growth\n",
    "    df[\"gdp_growth\"] = df.gdp.diff()/df.gdp.shift(periods=1)\n",
    "    \n",
    "    # kaya identity values\n",
    "    df[\"e_g\"] = df[\"energy\"]/df[\"gdp\"]\n",
    "    df[\"f_e\"] = df[\"emissions\"]/df[\"energy\"]\n",
    "    df[\"g_p\"] = df[\"gdp\"]/df[\"population\"]\n",
    "    df[\"emissions_kaya\"] = df.population * df.g_p * df.e_g * df.f_e\n",
    "    \n",
    "    return(df)"
   ]
  },
  {
   "cell_type": "markdown",
   "metadata": {},
   "source": [
    "Main code for model"
   ]
  },
  {
   "cell_type": "code",
   "execution_count": 26,
   "metadata": {},
   "outputs": [],
   "source": [
    "def run_model(years,initial_gdp,initial_emissions,initial_dt,\n",
    "              tcre,damage_coefs,pop_list,e_g_list,f_e_list,growth_list):\n",
    "    \n",
    "    # years: time over to which to run model\n",
    "    # initial_gdp: world GDP in 2020 in trillions USD\n",
    "    # initial_emissions: *cumulative* emissions in 2020 in GtCO2\n",
    "    # initial_dt: temperature change relative to pre-industrial in 2020\n",
    "    # tcre: transient climate response to cumulative emissions in degrees C per 1000 GtCO2 cumulative\n",
    "    # damage_coefs: damage function coefficients, in a list: intercept, linear, quadratic\n",
    "    # pop_list: exogenous population over the years desired\n",
    "    # e_g_list: exogenous energy intensity of GDP \n",
    "    # f_e_list: exogenous emissions intensity of energy (but can be modified by mitigation)\n",
    "    # growth_list: exogenous baseline (non-damaged) rate of economic growth\n",
    "    \n",
    "    # requires xarray, numpy, sys\n",
    "        \n",
    "    gdp_out = xr.DataArray(np.full(len(years),np.nan),coords=[years],dims=[\"time\"])\n",
    "    emissions_out = xr.DataArray(np.full(len(years),np.nan),coords=[years],dims=[\"time\"])\n",
    "    deltat_out = xr.DataArray(np.full(len(years),np.nan),coords=[years],dims=[\"time\"])\n",
    "    \n",
    "    gdp_out[0] = initial_gdp\n",
    "    emissions_out[0] = initial_emissions\n",
    "    deltat_out[0] = initial_dt\n",
    "    \n",
    "    # damage function coefs\n",
    "    # in percents -- 2% should be in damage_coefs as 2, not 0.02\n",
    "    coef0 = damage_coefs[0]/100.0\n",
    "    coef1 = damage_coefs[1]/100.0\n",
    "    coef2 = damage_coefs[2]/100.0\n",
    "    \n",
    "    for i in np.arange(1,len(years),1):\n",
    "        year = years[i]\n",
    "\n",
    "        # exogenous vals \n",
    "        pop = pop_list[i]\n",
    "        e_g = e_g_list[i]\n",
    "        f_e = f_e_list[i]\n",
    "        gr = growth_list[i]\n",
    "\n",
    "        # iterate\n",
    "        gdp_nodamage = gdp_out[i-1] + (gdp_out[i-1]*gr)\n",
    "        \n",
    "        # take cumulative emissions from the previous year as the tcre input to year t\n",
    "        emissions_prev = emissions_out[i-1] # for input to tcre\n",
    "        \n",
    "        # calculate delta t\n",
    "        deltat_out[i] = emissions_prev*(tcre/1000.0)\n",
    "        \n",
    "        # damages to growth rate in percent\n",
    "        damages = coef2*(deltat_out[i]**2) + (coef1*deltat_out[i]) + coef0\n",
    "        \n",
    "        # gdp with damages\n",
    "        gdp_out[i] = gdp_out[i-1] + (gdp_out[i-1]*(gr-damages))\n",
    "        \n",
    "        # *cumulative* emissions as a result of gdp\n",
    "        emissions_out[i] = (pop * (gdp_out[i]/pop) * (e_g) * (f_e)) + emissions_out[i-1]\n",
    "        \n",
    "    return([gdp_out,emissions_out,deltat_out])"
   ]
  },
  {
   "cell_type": "markdown",
   "metadata": {},
   "source": [
    "#### Analysis"
   ]
  },
  {
   "cell_type": "markdown",
   "metadata": {},
   "source": [
    "Load Global Carbon Budget data so we have cumulative emissions from 1850"
   ]
  },
  {
   "cell_type": "code",
   "execution_count": 22,
   "metadata": {},
   "outputs": [],
   "source": [
    "gcp = pd.read_csv(loc_emissions+\"GlobalCarbonBudget_HistoricalEmissions.csv\")\n",
    "gcp = gcp.loc[gcp.Year>=1850,:].reset_index().drop(columns=\"index\")\n",
    "gcp[\"total_emissions_gtc\"] = gcp[\"fossil emissions excluding carbonation GtC\"] + gcp[\"land-use change emissions GtC\"]\n",
    "gcp[\"total_emissions_gtco2\"] = gcp.total_emissions_gtc*3.664\n",
    "gcp[\"cumulative_emissions_gtco2\"] = np.cumsum(gcp.total_emissions_gtco2.values)\n",
    "gcp[\"obs_temp_change\"] = gcp.cumulative_emissions_gtco2.shift(periods=1)/1000.0 * tcre"
   ]
  },
  {
   "cell_type": "markdown",
   "metadata": {},
   "source": [
    "Now load SSP data for desired scenario"
   ]
  },
  {
   "cell_type": "code",
   "execution_count": 23,
   "metadata": {},
   "outputs": [],
   "source": [
    "main_scenario = \"SSP2\"\n",
    "scenario_subset = \"Baseline\" #Baseline, 19 for SSP1-19, 26 for SSP2-26, etc.\n",
    "benchmark_mdls = {\"SSP1\":\"IMAGE\",\"SSP2\":\"MESSAGE-GLOBIOM\",\n",
    "                 \"SSP3\":\"AIM/CGE\",\"SSP4\":\"GCAM4\",\"SSP5\":\"REMIND-MAGPIE\"}\n",
    "main_mdl = benchmark_mdls[main_scenario]\n",
    "data_main = load_ssp_data(main_scenario,scenario_subset,main_mdl,np.arange(y1,y2+1,1))"
   ]
  },
  {
   "cell_type": "markdown",
   "metadata": {},
   "source": [
    "Add cumulative emissions and temperature based on the GCP data"
   ]
  },
  {
   "cell_type": "code",
   "execution_count": 24,
   "metadata": {},
   "outputs": [],
   "source": [
    "data_main[\"cumulative_emissions\"] = np.cumsum(data_main[\"emissions\"]) + gcp.loc[gcp.Year==(y1-1),\"cumulative_emissions_gtco2\"].values\n",
    "data_main[\"dt\"] = data_main.cumulative_emissions/1000.0 * tcre"
   ]
  },
  {
   "cell_type": "markdown",
   "metadata": {},
   "source": [
    "Now simulate a range of damage fractions"
   ]
  },
  {
   "cell_type": "code",
   "execution_count": 43,
   "metadata": {},
   "outputs": [],
   "source": [
    "damage_coefs_0 = 0 # no intercept\n",
    "damage_coefs_1 = np.array([np.around(x,2) for x in np.arange(0,1.2+0.05,0.05)])\n",
    "damage_coefs_2 = 0 # quadratic\n",
    "# using approximate values from Moore and Diaz (2015) \n",
    "# which calibrate DICE to the growht effects found by Dell, Jones, and Olken (2012)\n",
    "# damages are expressed as percentage-point changes in growth\n",
    "# as a function of temperature\n",
    "# https://www.nature.com/articles/nclimate2481\n",
    "# https://scholar.harvard.edu/files/dell/files/aej_temperature.pdf"
   ]
  },
  {
   "cell_type": "code",
   "execution_count": 28,
   "metadata": {},
   "outputs": [
    {
     "name": "stdout",
     "output_type": "stream",
     "text": [
      "0.0\n",
      "0.05\n",
      "0.1\n",
      "0.15\n",
      "0.2\n",
      "0.25\n",
      "0.3\n",
      "0.35\n",
      "0.4\n",
      "0.45\n",
      "0.5\n",
      "0.55\n",
      "0.6\n",
      "0.65\n",
      "0.7\n",
      "0.75\n",
      "0.8\n",
      "0.85\n",
      "0.9\n",
      "0.95\n",
      "1.0\n",
      "1.05\n",
      "1.1\n",
      "1.15\n",
      "1.2\n"
     ]
    }
   ],
   "source": [
    "gdp_simulated = xr.DataArray(np.full((len(years),len(damage_coefs_1)),np.nan),\n",
    "                          coords=[years,damage_coefs_1],\n",
    "                         dims=[\"time\",\"damages\"])\n",
    "emissions_simulated = xr.DataArray(np.full((len(years),len(damage_coefs_1)),np.nan),\n",
    "                          coords=[years,damage_coefs_1],\n",
    "                         dims=[\"time\",\"damages\"])\n",
    "temp_simulated = xr.DataArray(np.full((len(years),len(damage_coefs_1)),np.nan),\n",
    "                          coords=[years,damage_coefs_1],\n",
    "                         dims=[\"time\",\"damages\"])\n",
    "gdp_init = data_main.loc[data_main.year==y1,\"gdp\"].values[0]\n",
    "emiss_init = data_main.loc[data_main.year==y1,\"cumulative_emissions\"].values[0]\n",
    "t_init = data_main.loc[data_main.year==y1,\"dt\"].values[0]\n",
    "\n",
    "for d in damage_coefs_1:\n",
    "    print(d)\n",
    "    gdp_simulated.loc[:,d], emissions_simulated.loc[:,d], temp_simulated.loc[:,d] = run_model(\n",
    "                                                years,gdp_init,emiss_init,\n",
    "                                                t_init,tcre,[damage_coefs_0,d,damage_coefs_2],\n",
    "                                                data_main.population.values,data_main.e_g.values,\n",
    "                                                data_main.f_e.values,data_main.gdp_growth.values)"
   ]
  },
  {
   "cell_type": "code",
   "execution_count": 37,
   "metadata": {},
   "outputs": [
    {
     "data": {
      "image/png": "[encoded data removed]",
      "text/plain": [
       "<Figure size 432x288 with 1 Axes>"
      ]
     },
     "metadata": {
      "needs_background": "light"
     },
     "output_type": "display_data"
    }
   ],
   "source": [
    "plt.plot(years,gdp_simulated.loc[:,0],label='no damage')\n",
    "plt.plot(years,gdp_simulated.loc[:,0.5],label='0.5 pp per $\\degree$C')\n",
    "plt.plot(years,gdp_simulated.loc[:,1],label='1 pp per $\\degree$C')\n",
    "plt.xlabel(\"yr\")\n",
    "plt.ylabel(\"global GDP\")\n",
    "plt.show()"
   ]
  },
  {
   "cell_type": "code",
   "execution_count": 39,
   "metadata": {},
   "outputs": [
    {
     "data": {
      "image/png": "[encoded data removed]",
      "text/plain": [
       "<Figure size 432x288 with 1 Axes>"
      ]
     },
     "metadata": {
      "needs_background": "light"
     },
     "output_type": "display_data"
    }
   ],
   "source": [
    "plt.plot(years,temp_simulated.loc[:,0],label='no damage')\n",
    "plt.plot(years,temp_simulated.loc[:,0.5],label='0.5 pp per $\\degree$C')\n",
    "plt.plot(years,temp_simulated.loc[:,1],label='1 pp per $\\degree$C')\n",
    "plt.xlabel(\"yr\")\n",
    "plt.ylabel(\"temp change ($\\degree$C)\")\n",
    "plt.show()"
   ]
  },
  {
   "cell_type": "markdown",
   "metadata": {},
   "source": [
    "Run analysis for all SSPs"
   ]
  },
  {
   "cell_type": "code",
   "execution_count": 40,
   "metadata": {},
   "outputs": [
    {
     "name": "stdout",
     "output_type": "stream",
     "text": [
      "SSP1\n",
      "SSP2\n",
      "SSP3\n",
      "SSP4\n",
      "SSP5\n"
     ]
    }
   ],
   "source": [
    "scenarios = [\"SSP1\",\"SSP2\",\"SSP3\",\"SSP4\",\"SSP5\"]\n",
    "gdp_simulated_ssps = xr.DataArray(np.full((len(scenarios),len(years),len(damage_coefs_1)),np.nan),\n",
    "                              coords=[scenarios,years,damage_coefs_1],\n",
    "                                   dims=[\"scenario\",\"time\",\"damages\"])\n",
    "emissions_simulated_ssps = xr.DataArray(np.full((len(scenarios),len(years),len(damage_coefs_1)),np.nan),\n",
    "                              coords=[scenarios,years,damage_coefs_1],\n",
    "                                   dims=[\"scenario\",\"time\",\"damages\"])\n",
    "temp_simulated_ssps = xr.DataArray(np.full((len(scenarios),len(years),len(damage_coefs_1)),np.nan),\n",
    "                              coords=[scenarios,years,damage_coefs_1],\n",
    "                                   dims=[\"scenario\",\"time\",\"damages\"])\n",
    "gdp_main_ssps = xr.DataArray(np.full((len(scenarios),len(years)),np.nan),\n",
    "                            coords=[scenarios,years],dims=[\"scenario\",\"time\"])\n",
    "for s in scenarios:\n",
    "    print(s)\n",
    "    mdl = benchmark_mdls[s]\n",
    "    data_s = load_ssp_data(s,\"Baseline\",mdl,years)\n",
    "    data_s[\"cumulative_emissions\"] = np.cumsum(data_s[\"emissions\"]) + gcp.loc[gcp.Year==(y1-1),\"cumulative_emissions_gtco2\"].values\n",
    "    data_s[\"dt\"] = data_s.cumulative_emissions/1000.0 * tcre\n",
    "    \n",
    "    gdp_init = data_s.loc[data_s.year==y1,\"gdp\"].values[0]\n",
    "    emiss_init = data_s.loc[data_s.year==y1,\"cumulative_emissions\"].values[0]\n",
    "    t_init = data_s.loc[data_s.year==y1,\"dt\"].values[0]\n",
    "    gdp_main_ssps.loc[s,:] = data_s.gdp.values\n",
    "    \n",
    "    for d in damage_coefs_1:\n",
    "        gdp_simulated_ssps.loc[s,:,d], emissions_simulated_ssps.loc[s,:,d], temp_simulated_ssps.loc[s,:,d] = run_model(\n",
    "                                            years,gdp_init,emiss_init,\n",
    "                                            t_init,tcre,[damage_coefs_0,d,damage_coefs_2],\n",
    "                                            data_s.population.values,data_s.e_g.values,\n",
    "                                            data_s.f_e.values,data_s.gdp_growth.values)"
   ]
  },
  {
   "cell_type": "code",
   "execution_count": 42,
   "metadata": {},
   "outputs": [
    {
     "data": {
      "image/png": "[encoded data removed]",
      "text/plain": [
       "<Figure size 432x288 with 1 Axes>"
      ]
     },
     "metadata": {
      "needs_background": "light"
     },
     "output_type": "display_data"
    }
   ],
   "source": [
    "plt.plot(years,temp_simulated_ssps.loc[\"SSP1\",:,0.5],label=\"SSP1\")\n",
    "plt.plot(years,temp_simulated_ssps.loc[\"SSP2\",:,0.5],label=\"SSP2\")\n",
    "plt.plot(years,temp_simulated_ssps.loc[\"SSP3\",:,0.5],label=\"SSP3\")\n",
    "plt.plot(years,temp_simulated_ssps.loc[\"SSP4\",:,0.5],label=\"SSP4\")\n",
    "plt.plot(years,temp_simulated_ssps.loc[\"SSP5\",:,0.5],label='SSP5')\n",
    "plt.legend(loc=\"upper left\",frameon=False)\n",
    "plt.xlabel(\"yr\")\n",
    "plt.ylabel(\"temp change ($\\degree$C)\")\n",
    "plt.title(\"global warming under moderate growth damages\")\n",
    "plt.show()"
   ]
  }
 ],
 "metadata": {
  "kernelspec": {
   "display_name": "Python ccallahan",
   "language": "python",
   "name": "ccallahan"
  },
  "language_info": {
   "codemirror_mode": {
    "name": "ipython",
    "version": 3
   },
   "file_extension": ".py",
   "mimetype": "text/x-python",
   "name": "python",
   "nbconvert_exporter": "python",
   "pygments_lexer": "ipython3",
   "version": "3.7.3"
  }
 },
 "nbformat": 4,
 "nbformat_minor": 2
}
